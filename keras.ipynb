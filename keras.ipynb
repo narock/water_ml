{
 "cells": [
  {
   "cell_type": "code",
   "execution_count": 7,
   "metadata": {},
   "outputs": [],
   "source": [
    "import os\n",
    "\n",
    "os.environ['TF_CPP_MIN_LOG_LEVEL'] = '3'\n",
    "import matplotlib.pyplot as plt\n",
    "import numpy as np\n",
    "import pandas as pd\n",
    "import tensorflow as tf\n",
    "from sklearn.metrics import mean_squared_error\n",
    "from sklearn.ensemble import RandomForestRegressor\n",
    "from sklearn.model_selection import train_test_split\n",
    "from tensorflow.keras.layers import *\n",
    "from tensorflow.keras import models\n",
    "from tensorflow.keras.callbacks import EarlyStopping\n"
   ]
  },
  {
   "cell_type": "code",
   "execution_count": 24,
   "metadata": {},
   "outputs": [
    {
     "name": "stdout",
     "output_type": "stream",
     "text": [
      "Model: \"sequential_3\"\n",
      "_________________________________________________________________\n",
      "Layer (type)                 Output Shape              Param #   \n",
      "=================================================================\n",
      "dense_9 (Dense)              (None, 128)               768       \n",
      "_________________________________________________________________\n",
      "dense_10 (Dense)             (None, 64)                8256      \n",
      "_________________________________________________________________\n",
      "dense_11 (Dense)             (None, 1)                 65        \n",
      "=================================================================\n",
      "Total params: 9,089\n",
      "Trainable params: 9,089\n",
      "Non-trainable params: 0\n",
      "_________________________________________________________________\n"
     ]
    }
   ],
   "source": [
    "model = models.Sequential()\n",
    "model.add(Dense(128,input_dim = 5,activation=\"ReLU\"))\n",
    "model.add(Dense(64,input_dim = 5,activation=\"ReLU\"))\n",
    "model.add(Dense(1)) \n",
    "model.compile(optimizer=\"adam\", loss=\"mse\")\n",
    "model.summary()"
   ]
  },
  {
   "cell_type": "code",
   "execution_count": 25,
   "metadata": {},
   "outputs": [],
   "source": [
    "es = EarlyStopping(monitor='val_loss', mode='min', patience=5)"
   ]
  },
  {
   "cell_type": "code",
   "execution_count": 26,
   "metadata": {},
   "outputs": [
    {
     "name": "stderr",
     "output_type": "stream",
     "text": [
      "/opt/homebrew/Caskroom/miniforge/base/envs/tensorflow/lib/python3.9/site-packages/pandas/util/_decorators.py:311: ParserWarning: Falling back to the 'python' engine because the 'c' engine does not support regex separators (separators > 1 char and different from '\\s+' are interpreted as regex); you can avoid this warning by specifying engine='python'.\n",
      "  return func(*args, **kwargs)\n"
     ]
    },
    {
     "name": "stdout",
     "output_type": "stream",
     "text": [
      "(127753, 1)\n",
      "Epoch 1/100\n",
      "5350/5350 [==============================] - 21s 4ms/step - loss: 5156082024448.0000 - val_loss: 243040600064.0000\n",
      "Epoch 2/100\n",
      "5350/5350 [==============================] - 22s 4ms/step - loss: 5156064722944.0000 - val_loss: 243022413824.0000\n",
      "Epoch 3/100\n",
      "5350/5350 [==============================] - 21s 4ms/step - loss: 5156021731328.0000 - val_loss: 243026132992.0000\n",
      "Epoch 4/100\n",
      "5350/5350 [==============================] - 20s 4ms/step - loss: 5156111908864.0000 - val_loss: 243022053376.0000\n",
      "Epoch 5/100\n",
      "5350/5350 [==============================] - 20s 4ms/step - loss: 5155969302528.0000 - val_loss: 243023085568.0000\n",
      "Epoch 6/100\n",
      "5350/5350 [==============================] - 21s 4ms/step - loss: 5156011769856.0000 - val_loss: 243146194944.0000\n",
      "Epoch 7/100\n",
      "5350/5350 [==============================] - 21s 4ms/step - loss: 5156074684416.0000 - val_loss: 243026952192.0000\n",
      "Epoch 8/100\n",
      "5350/5350 [==============================] - 21s 4ms/step - loss: 5155997614080.0000 - val_loss: 243082428416.0000\n",
      "Epoch 9/100\n",
      "5350/5350 [==============================] - 22s 4ms/step - loss: 5156010721280.0000 - val_loss: 243031130112.0000\n"
     ]
    },
    {
     "data": {
      "image/png": "[encoded data removed]",
      "text/plain": [
       "<Figure size 432x288 with 1 Axes>"
      ]
     },
     "metadata": {
      "needs_background": "light"
     },
     "output_type": "display_data"
    },
    {
     "name": "stdout",
     "output_type": "stream",
     "text": [
      "For Fall our MSE is 243036709205.65222\n"
     ]
    },
    {
     "name": "stderr",
     "output_type": "stream",
     "text": [
      "/opt/homebrew/Caskroom/miniforge/base/envs/tensorflow/lib/python3.9/site-packages/pandas/util/_decorators.py:311: ParserWarning: Falling back to the 'python' engine because the 'c' engine does not support regex separators (separators > 1 char and different from '\\s+' are interpreted as regex); you can avoid this warning by specifying engine='python'.\n",
      "  return func(*args, **kwargs)\n"
     ]
    },
    {
     "name": "stdout",
     "output_type": "stream",
     "text": [
      "(129130, 1)\n",
      "Epoch 1/100\n",
      "5408/5408 [==============================] - 21s 4ms/step - loss: 90209230848.0000 - val_loss: 51196303769600.0000\n",
      "Epoch 2/100\n",
      "5408/5408 [==============================] - 21s 4ms/step - loss: 90216849408.0000 - val_loss: 51196316352512.0000\n",
      "Epoch 3/100\n",
      "5408/5408 [==============================] - 22s 4ms/step - loss: 90213842944.0000 - val_loss: 51195888533504.0000\n",
      "Epoch 4/100\n",
      "5408/5408 [==============================] - 22s 4ms/step - loss: 90212122624.0000 - val_loss: 51196089860096.0000\n",
      "Epoch 5/100\n",
      "5408/5408 [==============================] - 22s 4ms/step - loss: 90208403456.0000 - val_loss: 51195972419584.0000\n",
      "Epoch 6/100\n",
      "5408/5408 [==============================] - 22s 4ms/step - loss: 90211475456.0000 - val_loss: 51195825618944.0000\n",
      "Epoch 7/100\n",
      "5408/5408 [==============================] - 22s 4ms/step - loss: 90205102080.0000 - val_loss: 51196278603776.0000\n",
      "Epoch 8/100\n",
      "5408/5408 [==============================] - 22s 4ms/step - loss: 90211442688.0000 - val_loss: 51196077277184.0000\n",
      "Epoch 9/100\n",
      "5408/5408 [==============================] - 22s 4ms/step - loss: 90205986816.0000 - val_loss: 51196190523392.0000\n",
      "Epoch 10/100\n",
      "5408/5408 [==============================] - 22s 4ms/step - loss: 90211377152.0000 - val_loss: 51196362489856.0000\n",
      "Epoch 11/100\n",
      "5408/5408 [==============================] - 20s 4ms/step - loss: 90205282304.0000 - val_loss: 51195657846784.0000\n",
      "Epoch 12/100\n",
      "5408/5408 [==============================] - 22s 4ms/step - loss: 90202071040.0000 - val_loss: 51196316352512.0000\n",
      "Epoch 13/100\n",
      "5408/5408 [==============================] - 22s 4ms/step - loss: 90208698368.0000 - val_loss: 51196198912000.0000\n",
      "Epoch 14/100\n",
      "5408/5408 [==============================] - 22s 4ms/step - loss: 90201194496.0000 - val_loss: 51196425404416.0000\n",
      "Epoch 15/100\n",
      "5408/5408 [==============================] - 21s 4ms/step - loss: 90206756864.0000 - val_loss: 51196215689216.0000\n",
      "Epoch 16/100\n",
      "5408/5408 [==============================] - 22s 4ms/step - loss: 90208411648.0000 - val_loss: 51196307963904.0000\n"
     ]
    },
    {
     "data": {
      "image/png": "[encoded data removed]",
      "text/plain": [
       "<Figure size 432x288 with 1 Axes>"
      ]
     },
     "metadata": {
      "needs_background": "light"
     },
     "output_type": "display_data"
    },
    {
     "name": "stdout",
     "output_type": "stream",
     "text": [
      "For Spring our MSE is 51196336137318.96\n"
     ]
    },
    {
     "name": "stderr",
     "output_type": "stream",
     "text": [
      "/opt/homebrew/Caskroom/miniforge/base/envs/tensorflow/lib/python3.9/site-packages/pandas/util/_decorators.py:311: ParserWarning: Falling back to the 'python' engine because the 'c' engine does not support regex separators (separators > 1 char and different from '\\s+' are interpreted as regex); you can avoid this warning by specifying engine='python'.\n",
      "  return func(*args, **kwargs)\n"
     ]
    },
    {
     "name": "stdout",
     "output_type": "stream",
     "text": [
      "(127569, 1)\n",
      "Epoch 1/100\n",
      "5342/5342 [==============================] - 20s 4ms/step - loss: 2724612014080.0000 - val_loss: 570591572656128.0000\n",
      "Epoch 2/100\n",
      "5342/5342 [==============================] - 20s 4ms/step - loss: 2724580294656.0000 - val_loss: 570590901567488.0000\n",
      "Epoch 3/100\n",
      "5342/5342 [==============================] - 20s 4ms/step - loss: 2724531798016.0000 - val_loss: 570591438438400.0000\n",
      "Epoch 4/100\n",
      "5342/5342 [==============================] - 20s 4ms/step - loss: 2724548050944.0000 - val_loss: 570590968676352.0000\n",
      "Epoch 5/100\n",
      "5342/5342 [==============================] - 20s 4ms/step - loss: 2724599431168.0000 - val_loss: 570590901567488.0000\n",
      "Epoch 6/100\n",
      "5342/5342 [==============================] - 20s 4ms/step - loss: 2724565090304.0000 - val_loss: 570591371329536.0000\n",
      "Epoch 7/100\n",
      "5342/5342 [==============================] - 20s 4ms/step - loss: 2724610965504.0000 - val_loss: 570588217212928.0000\n",
      "Epoch 8/100\n",
      "5342/5342 [==============================] - 21s 4ms/step - loss: 2724594712576.0000 - val_loss: 570589827825664.0000\n",
      "Epoch 9/100\n",
      "5342/5342 [==============================] - 21s 4ms/step - loss: 2724471504896.0000 - val_loss: 570589827825664.0000\n",
      "Epoch 10/100\n",
      "5342/5342 [==============================] - 21s 4ms/step - loss: 2724559585280.0000 - val_loss: 570590297587712.0000\n",
      "Epoch 11/100\n",
      "5342/5342 [==============================] - 21s 4ms/step - loss: 2724569022464.0000 - val_loss: 570591371329536.0000\n",
      "Epoch 12/100\n",
      "5342/5342 [==============================] - 21s 4ms/step - loss: 2724625645568.0000 - val_loss: 570590230478848.0000\n"
     ]
    },
    {
     "data": {
      "image/png": "[encoded data removed]",
      "text/plain": [
       "<Figure size 432x288 with 1 Axes>"
      ]
     },
     "metadata": {
      "needs_background": "light"
     },
     "output_type": "display_data"
    },
    {
     "name": "stdout",
     "output_type": "stream",
     "text": [
      "For Winter our MSE is 570590292193948.4\n"
     ]
    },
    {
     "name": "stderr",
     "output_type": "stream",
     "text": [
      "/opt/homebrew/Caskroom/miniforge/base/envs/tensorflow/lib/python3.9/site-packages/pandas/util/_decorators.py:311: ParserWarning: Falling back to the 'python' engine because the 'c' engine does not support regex separators (separators > 1 char and different from '\\s+' are interpreted as regex); you can avoid this warning by specifying engine='python'.\n",
      "  return func(*args, **kwargs)\n"
     ]
    },
    {
     "name": "stdout",
     "output_type": "stream",
     "text": [
      "(128959, 1)\n",
      "Epoch 1/100\n",
      "5401/5401 [==============================] - 21s 4ms/step - loss: 15359765643264.0000 - val_loss: 5135627976704.0000\n",
      "Epoch 2/100\n",
      "5401/5401 [==============================] - 22s 4ms/step - loss: 15359604162560.0000 - val_loss: 5136508780544.0000\n",
      "Epoch 3/100\n",
      "5401/5401 [==============================] - 22s 4ms/step - loss: 15359614648320.0000 - val_loss: 5136019619840.0000\n",
      "Epoch 4/100\n",
      "5401/5401 [==============================] - 21s 4ms/step - loss: 15359074631680.0000 - val_loss: 5135587606528.0000\n",
      "Epoch 5/100\n",
      "5401/5401 [==============================] - 20s 4ms/step - loss: 15359377670144.0000 - val_loss: 5135755902976.0000\n",
      "Epoch 6/100\n",
      "5401/5401 [==============================] - 22s 4ms/step - loss: 15359745720320.0000 - val_loss: 5136007036928.0000\n",
      "Epoch 7/100\n",
      "5401/5401 [==============================] - 21s 4ms/step - loss: 15359670222848.0000 - val_loss: 5136972251136.0000\n",
      "Epoch 8/100\n",
      "5401/5401 [==============================] - 21s 4ms/step - loss: 15359261278208.0000 - val_loss: 5135541993472.0000\n",
      "Epoch 9/100\n",
      "5401/5401 [==============================] - 22s 4ms/step - loss: 15359710068736.0000 - val_loss: 5136009134080.0000\n",
      "Epoch 10/100\n",
      "5401/5401 [==============================] - 21s 4ms/step - loss: 15359732088832.0000 - val_loss: 5135831400448.0000\n",
      "Epoch 11/100\n",
      "5401/5401 [==============================] - 23s 4ms/step - loss: 15359139643392.0000 - val_loss: 5135525740544.0000\n",
      "Epoch 12/100\n",
      "5401/5401 [==============================] - 22s 4ms/step - loss: 15359240306688.0000 - val_loss: 5136477323264.0000\n",
      "Epoch 13/100\n",
      "5401/5401 [==============================] - 21s 4ms/step - loss: 15359362990080.0000 - val_loss: 5135398862848.0000\n",
      "Epoch 14/100\n",
      "5401/5401 [==============================] - 21s 4ms/step - loss: 15359430098944.0000 - val_loss: 5135440281600.0000\n",
      "Epoch 15/100\n",
      "5401/5401 [==============================] - 21s 4ms/step - loss: 15359221432320.0000 - val_loss: 5135684599808.0000\n",
      "Epoch 16/100\n",
      "5401/5401 [==============================] - 21s 4ms/step - loss: 15358634229760.0000 - val_loss: 5135566635008.0000\n",
      "Epoch 17/100\n",
      "5401/5401 [==============================] - 22s 4ms/step - loss: 15359211995136.0000 - val_loss: 5135487991808.0000\n",
      "Epoch 18/100\n",
      "5401/5401 [==============================] - 22s 4ms/step - loss: 15359071485952.0000 - val_loss: 5135404105728.0000\n"
     ]
    },
    {
     "data": {
      "image/png": "[encoded data removed]",
      "text/plain": [
       "<Figure size 432x288 with 1 Axes>"
      ]
     },
     "metadata": {
      "needs_background": "light"
     },
     "output_type": "display_data"
    },
    {
     "name": "stdout",
     "output_type": "stream",
     "text": [
      "For Summer our MSE is 5135635386581.124\n"
     ]
    }
   ],
   "source": [
    "seasons = [\"Fall\", \"Spring\", \"Winter\", \"Summer\"]\n",
    "starting_year = 1995\n",
    "for idx, season in enumerate(seasons):\n",
    "    waterAverage = pd.read_csv(f\"{season}_data.csv\", sep=r'\\s*,\\s*')\n",
    "\n",
    "    y = np.array(waterAverage['bias'])\n",
    "    seasons_encoded = np.array(\n",
    "        [idx+1 for _ in range(waterAverage['season'].shape[0])])\n",
    "    seasons_encoded = seasons_encoded.reshape(-1, 1)\n",
    "    X = np.array(waterAverage[['lat', 'long', \"Altitude\", \"year\"]])\n",
    "    print(seasons_encoded.shape)\n",
    "    X = np.append(X, seasons_encoded, axis=1)\n",
    "\n",
    "    X_train, X_test, y_train, y_test = train_test_split(X,\n",
    "                                                        y,\n",
    "                                                        test_size=0.33,\n",
    "                                                        random_state=42)\n",
    "    history = model.fit(X_train, y_train, \\\n",
    "                    epochs=100, batch_size=16, verbose=1, \\\n",
    "                    validation_data=(X_test, y_test),callbacks=[es])\n",
    "    \n",
    "    plt.figure(idx)\n",
    "    plt.plot(history.history['loss'])\n",
    "    plt.plot(history.history['val_loss'])\n",
    "    plt.title(f\"MSE Loss and Validation loss for {season} season\")\n",
    "    plt.show()\n",
    "\n",
    "    y_predict = model.predict(X_test)\n",
    "\n",
    "    print(f\"For {season} our MSE is {mean_squared_error(y_test,y_predict)}\")"
   ]
  },
  {
   "cell_type": "code",
   "execution_count": null,
   "metadata": {},
   "outputs": [],
   "source": []
  },
  {
   "cell_type": "code",
   "execution_count": null,
   "metadata": {},
   "outputs": [],
   "source": []
  }
 ],
 "metadata": {
  "interpreter": {
   "hash": "4bd624a0593993fe43ac4046b27b898fb2ef75c21c08f81e89e64ea0f51df676"
  },
  "kernelspec": {
   "display_name": "Python 3.9.7 64-bit ('tensorflow': conda)",
   "language": "python",
   "name": "python3"
  },
  "language_info": {
   "codemirror_mode": {
    "name": "ipython",
    "version": 3
   },
   "file_extension": ".py",
   "mimetype": "text/x-python",
   "name": "python",
   "nbconvert_exporter": "python",
   "pygments_lexer": "ipython3",
   "version": "3.9.7"
  },
  "orig_nbformat": 4
 },
 "nbformat": 4,
 "nbformat_minor": 2
}
